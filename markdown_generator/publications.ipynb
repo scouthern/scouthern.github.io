{
 "cells": [
  {
   "cell_type": "markdown",
   "metadata": {
    "deletable": true,
    "editable": true
   },
   "source": [
    "# Publications markdown generator for academicpages\n",
    "\n",
    "Takes a TSV of publications with metadata and converts them for use with [academicpages.github.io](academicpages.github.io). This is an interactive Jupyter notebook ([see more info here](http://jupyter-notebook-beginner-guide.readthedocs.io/en/latest/what_is_jupyter.html)). The core python code is also in `publications.py`. Run either from the `markdown_generator` folder after replacing `publications.tsv` with one containing your data.\n",
    "\n",
    "TODO: Make this work with BibTex and other databases of citations, rather than Stuart's non-standard TSV format and citation style.\n"
   ]
  },
  {
   "cell_type": "markdown",
   "metadata": {},
   "source": [
    "## Data format\n",
    "\n",
    "The TSV needs to have the following columns: pub_date, title, venue, excerpt, citation, site_url, and paper_url, with a header at the top. \n",
    "\n",
    "- `excerpt` and `paper_url` can be blank, but the others must have values. \n",
    "- `pub_date` must be formatted as YYYY-MM-DD.\n",
    "- `url_slug` will be the descriptive part of the .md file and the permalink URL for the page about the paper. The .md file will be `YYYY-MM-DD-[url_slug].md` and the permalink will be `https://[yourdomain]/publications/YYYY-MM-DD-[url_slug]`\n",
    "\n",
    "This is how the raw file looks (it doesn't look pretty, use a spreadsheet or other program to edit and create)."
   ]
  },
  {
   "cell_type": "code",
   "execution_count": 13,
   "metadata": {
    "collapsed": false,
    "jupyter": {
     "outputs_hidden": false
    }
   },
   "outputs": [
    {
     "name": "stdout",
     "output_type": "stream",
     "text": [
      "pub_date\ttitle\tvenue\texcerpt\tcitation\turl_slug\tpaper_url\n",
      "14/06/2019\tHigher Order Line-Based Discontinuous Galerkin method for compressible flows\tAIAA Aviation 2019 Forum\t\"We present a preliminary implementation of a Line-Based Discontinuous Nodal Galerkin discretization method (due to Persson, 2013) to solve the compressible Navier-Stokes equations. \"\t\"Vuppala, R. K., & Subbareddy, P. K. (2019). Higher Order Line-Based Discontinuous Galerkin method for compressible flows. In AIAA Aviation 2019 Forum (p. 3211).\"\tHigher Order Line-Based Discontinuous Galerkin method for compressible flows\thttps://arc.aiaa.org/doi/abs/10.2514/6.2019-3211\n",
      "24/09/2019\tOptimization of Membrane Electrode Assembly of PEM Fuel Cell by Response Surface Method\tMolecules\t\"The membrane electrode assembly (MEA) plays an important role in the proton exchange membrane fuel cell (PEMFC) performance. Typically, the structure comprises of a polymer electrolyte membrane sandwiched by agglomerate catalyst layers at the anode and cathode. Optimization of various parameters in the design of MEA is, thus, essential for reducing cost and material usage, while improving cell performance. In this paper, optimization of MEA is performed using a validated two-phase PEMFC numerical model. Key MEA parameters affecting the performance of a single PEMFC are determined from sensitivity analysis and are optimized using the response surface method (RSM). The optimization is carried out at two different operating voltages. The results show that membrane thickness and membrane protonic conductivity coefficient are the most significant parameters influencing cell performance.\"\t\"Vuppala, R. K. S. S., Chedir, B. A., Jiang, L., Chen, L., Aziz, M., & Sasmito, A. P. (2019). Optimization of Membrane Electrode Assembly of PEM Fuel Cell by Response Surface Method. Molecules (Basel, Switzerland), 24(17), 3097. https://doi.org/10.3390/molecules24173097\"\tOptimization of Membrane Electrode Assembly of PEM Fuel Cell by Response Surface Method\thttps://www.mdpi.com/1420-3049/24/17/3097\n",
      "28/07/2021\tA Novel Approach in Realistic Wind Data Generation for The Safe Operation of Small Unmanned Aerial Systems in Urban Environment\tAIAA AVIATION 2021 FORUM\tIn this study we present a preliminary work for a method to efficiently generate realistic wind data for urban environments using existing Large Eddy Simulation (LES) data for safe operation of small unmanned aerial vehicles.\t\"Vuppala, R. K., & Kara, K. (2021). A Novel Approach in Realistic Wind Data Generation for The Safe Operation of Small Unmanned Aerial Systems in Urban Environment. In AIAA AVIATION 2021 FORUM (p. 2505).\"\tA Novel Approach in Realistic Wind Data Generation for The Safe Operation of Small Unmanned Aerial Systems in Urban Environment\thttps://arc.aiaa.org/doi/abs/10.2514/6.2021-2505\n"
     ]
    }
   ],
   "source": [
    "!cat publications.tsv"
   ]
  },
  {
   "cell_type": "markdown",
   "metadata": {},
   "source": [
    "## Import pandas\n",
    "\n",
    "We are using the very handy pandas library for dataframes."
   ]
  },
  {
   "cell_type": "code",
   "execution_count": 14,
   "metadata": {
    "deletable": true,
    "editable": true
   },
   "outputs": [],
   "source": [
    "import pandas as pd"
   ]
  },
  {
   "cell_type": "markdown",
   "metadata": {},
   "source": [
    "## Import TSV\n",
    "\n",
    "Pandas makes this easy with the read_csv function. We are using a TSV, so we specify the separator as a tab, or `\\t`.\n",
    "\n",
    "I found it important to put this data in a tab-separated values format, because there are a lot of commas in this kind of data and comma-separated values can get messed up. However, you can modify the import statement, as pandas also has read_excel(), read_json(), and others."
   ]
  },
  {
   "cell_type": "code",
   "execution_count": 15,
   "metadata": {
    "collapsed": false,
    "deletable": true,
    "editable": true,
    "jupyter": {
     "outputs_hidden": false
    }
   },
   "outputs": [
    {
     "data": {
      "text/html": [
       "<div>\n",
       "<style scoped>\n",
       "    .dataframe tbody tr th:only-of-type {\n",
       "        vertical-align: middle;\n",
       "    }\n",
       "\n",
       "    .dataframe tbody tr th {\n",
       "        vertical-align: top;\n",
       "    }\n",
       "\n",
       "    .dataframe thead th {\n",
       "        text-align: right;\n",
       "    }\n",
       "</style>\n",
       "<table border=\"1\" class=\"dataframe\">\n",
       "  <thead>\n",
       "    <tr style=\"text-align: right;\">\n",
       "      <th></th>\n",
       "      <th>pub_date</th>\n",
       "      <th>title</th>\n",
       "      <th>venue</th>\n",
       "      <th>excerpt</th>\n",
       "      <th>citation</th>\n",
       "      <th>url_slug</th>\n",
       "      <th>paper_url</th>\n",
       "    </tr>\n",
       "  </thead>\n",
       "  <tbody>\n",
       "    <tr>\n",
       "      <th>0</th>\n",
       "      <td>14/06/2019</td>\n",
       "      <td>Higher Order Line-Based Discontinuous Galerkin...</td>\n",
       "      <td>AIAA Aviation 2019 Forum</td>\n",
       "      <td>We present a preliminary implementation of a L...</td>\n",
       "      <td>Vuppala, R. K., &amp; Subbareddy, P. K. (2019). Hi...</td>\n",
       "      <td>Higher Order Line-Based Discontinuous Galerkin...</td>\n",
       "      <td>https://arc.aiaa.org/doi/abs/10.2514/6.2019-3211</td>\n",
       "    </tr>\n",
       "    <tr>\n",
       "      <th>1</th>\n",
       "      <td>24/09/2019</td>\n",
       "      <td>Optimization of Membrane Electrode Assembly of...</td>\n",
       "      <td>Molecules</td>\n",
       "      <td>The membrane electrode assembly (MEA) plays an...</td>\n",
       "      <td>Vuppala, R. K. S. S., Chedir, B. A., Jiang, L....</td>\n",
       "      <td>Optimization of Membrane Electrode Assembly of...</td>\n",
       "      <td>https://www.mdpi.com/1420-3049/24/17/3097</td>\n",
       "    </tr>\n",
       "    <tr>\n",
       "      <th>2</th>\n",
       "      <td>28/07/2021</td>\n",
       "      <td>A Novel Approach in Realistic Wind Data Genera...</td>\n",
       "      <td>AIAA AVIATION 2021 FORUM</td>\n",
       "      <td>In this study we present a preliminary work fo...</td>\n",
       "      <td>Vuppala, R. K., &amp; Kara, K. (2021). A Novel App...</td>\n",
       "      <td>A Novel Approach in Realistic Wind Data Genera...</td>\n",
       "      <td>https://arc.aiaa.org/doi/abs/10.2514/6.2021-2505</td>\n",
       "    </tr>\n",
       "  </tbody>\n",
       "</table>\n",
       "</div>"
      ],
      "text/plain": [
       "     pub_date                                              title  \\\n",
       "0  14/06/2019  Higher Order Line-Based Discontinuous Galerkin...   \n",
       "1  24/09/2019  Optimization of Membrane Electrode Assembly of...   \n",
       "2  28/07/2021  A Novel Approach in Realistic Wind Data Genera...   \n",
       "\n",
       "                      venue  \\\n",
       "0  AIAA Aviation 2019 Forum   \n",
       "1                 Molecules   \n",
       "2  AIAA AVIATION 2021 FORUM   \n",
       "\n",
       "                                             excerpt  \\\n",
       "0  We present a preliminary implementation of a L...   \n",
       "1  The membrane electrode assembly (MEA) plays an...   \n",
       "2  In this study we present a preliminary work fo...   \n",
       "\n",
       "                                            citation  \\\n",
       "0  Vuppala, R. K., & Subbareddy, P. K. (2019). Hi...   \n",
       "1  Vuppala, R. K. S. S., Chedir, B. A., Jiang, L....   \n",
       "2  Vuppala, R. K., & Kara, K. (2021). A Novel App...   \n",
       "\n",
       "                                            url_slug  \\\n",
       "0  Higher Order Line-Based Discontinuous Galerkin...   \n",
       "1  Optimization of Membrane Electrode Assembly of...   \n",
       "2  A Novel Approach in Realistic Wind Data Genera...   \n",
       "\n",
       "                                          paper_url  \n",
       "0  https://arc.aiaa.org/doi/abs/10.2514/6.2019-3211  \n",
       "1         https://www.mdpi.com/1420-3049/24/17/3097  \n",
       "2  https://arc.aiaa.org/doi/abs/10.2514/6.2021-2505  "
      ]
     },
     "execution_count": 15,
     "metadata": {},
     "output_type": "execute_result"
    }
   ],
   "source": [
    "publications = pd.read_csv(\"publications.tsv\", sep=\"\\t\", header=0)\n",
    "publications\n"
   ]
  },
  {
   "cell_type": "markdown",
   "metadata": {},
   "source": [
    "## Escape special characters\n",
    "\n",
    "YAML is very picky about how it takes a valid string, so we are replacing single and double quotes (and ampersands) with their HTML encoded equivilents. This makes them look not so readable in raw format, but they are parsed and rendered nicely."
   ]
  },
  {
   "cell_type": "code",
   "execution_count": 16,
   "metadata": {
    "deletable": true,
    "editable": true
   },
   "outputs": [],
   "source": [
    "html_escape_table = {\n",
    "    \"&\": \"&amp;\",\n",
    "    '\"': \"&quot;\",\n",
    "    \"'\": \"&apos;\"\n",
    "    }\n",
    "\n",
    "def html_escape(text):\n",
    "    \"\"\"Produce entities within text.\"\"\"\n",
    "    return \"\".join(html_escape_table.get(c,c) for c in text)"
   ]
  },
  {
   "cell_type": "markdown",
   "metadata": {},
   "source": [
    "## Creating the markdown files\n",
    "\n",
    "This is where the heavy lifting is done. This loops through all the rows in the TSV dataframe, then starts to concatentate a big string (```md```) that contains the markdown for each type. It does the YAML metadata first, then does the description for the individual page."
   ]
  },
  {
   "cell_type": "code",
   "execution_count": 17,
   "metadata": {
    "collapsed": false,
    "deletable": true,
    "editable": true,
    "jupyter": {
     "outputs_hidden": false
    }
   },
   "outputs": [],
   "source": [
    "import os\n",
    "for row, item in publications.iterrows():\n",
    "    \n",
    "    md_filename = str(item.pub_date) + \"-\" + item.url_slug + \".md\"\n",
    "    html_filename = str(item.pub_date) + \"-\" + item.url_slug\n",
    "    year = item.pub_date[:4]\n",
    "    \n",
    "    ## YAML variables\n",
    "    \n",
    "    md = \"---\\ntitle: \\\"\"   + item.title + '\"\\n'\n",
    "    \n",
    "    md += \"\"\"collection: publications\"\"\"\n",
    "    \n",
    "    md += \"\"\"\\npermalink: /publication/\"\"\" + html_filename\n",
    "    \n",
    "    if len(str(item.excerpt)) > 5:\n",
    "        md += \"\\nexcerpt: '\" + html_escape(item.excerpt) + \"'\"\n",
    "    \n",
    "    md += \"\\ndate: \" + str(item.pub_date) \n",
    "    \n",
    "    md += \"\\nvenue: '\" + html_escape(item.venue) + \"'\"\n",
    "    \n",
    "    if len(str(item.paper_url)) > 5:\n",
    "        md += \"\\npaperurl: '\" + item.paper_url + \"'\"\n",
    "    \n",
    "    md += \"\\ncitation: '\" + html_escape(item.citation) + \"'\"\n",
    "    \n",
    "    md += \"\\n---\"\n",
    "    \n",
    "    ## Markdown description for individual page\n",
    "        \n",
    "    if len(str(item.excerpt)) > 5:\n",
    "        md += \"\\n\" + html_escape(item.excerpt) + \"\\n\"\n",
    "    \n",
    "    if len(str(item.paper_url)) > 5:\n",
    "        md += \"\\n[Download paper here](\" + item.paper_url + \")\\n\" \n",
    "        \n",
    "    md += \"\\nRecommended citation: \" + item.citation\n",
    "    \n",
    "    md_filename = os.path.basename(md_filename)\n",
    "       \n",
    "    with open(\"../_publications/\" + md_filename, 'w') as f:\n",
    "        f.write(md)"
   ]
  },
  {
   "cell_type": "markdown",
   "metadata": {},
   "source": [
    "These files are in the publications directory, one directory below where we're working from."
   ]
  },
  {
   "cell_type": "code",
   "execution_count": 18,
   "metadata": {
    "collapsed": false,
    "deletable": true,
    "editable": true,
    "jupyter": {
     "outputs_hidden": false
    }
   },
   "outputs": [
    {
     "name": "stdout",
     "output_type": "stream",
     "text": [
      " 2009-10-01-paper-title-number-1.md\n",
      " 2010-10-01-paper-title-number-2.md\n",
      " 2010-paper-title-number-2.md\n",
      " 2015-10-01-paper-title-number-3.md\n",
      " 2015-paper-title-number-3.md\n",
      "'2019-Higher Order Line-Based Discontinuous Galerkin method for compressible flows.md'\n",
      "'2019-Optimization of Membrane Electrode Assembly of PEM Fuel Cell by Response Surface Method.md'\n",
      " 2019-p1.md\n",
      "'2021-A Novel Approach in Realistic Wind Data Generation for The Safe Operation of Small Unmanned Aerial Systems in Urban Environment.md'\n"
     ]
    }
   ],
   "source": [
    "!ls ../_publications/"
   ]
  },
  {
   "cell_type": "code",
   "execution_count": 19,
   "metadata": {
    "collapsed": false,
    "deletable": true,
    "editable": true,
    "jupyter": {
     "outputs_hidden": false
    }
   },
   "outputs": [
    {
     "name": "stdout",
     "output_type": "stream",
     "text": [
      "---\n",
      "title: \"Paper Title Number 1\"\n",
      "collection: publications\n",
      "permalink: /publication/2009-10-01-paper-title-number-1\n",
      "excerpt: 'This paper is about the number 1. The number 2 is left for future work.'\n",
      "date: 2009-10-01\n",
      "venue: 'Journal 1'\n",
      "paperurl: 'http://academicpages.github.io/files/paper1.pdf'\n",
      "citation: 'Your Name, You. (2009). &quot;Paper Title Number 1.&quot; <i>Journal 1</i>. 1(1).'\n",
      "---\n",
      "This paper is about the number 1. The number 2 is left for future work.\n",
      "\n",
      "[Download paper here](http://academicpages.github.io/files/paper1.pdf)\n",
      "\n",
      "Recommended citation: Your Name, You. (2009). \"Paper Title Number 1.\" <i>Journal 1</i>. 1(1)."
     ]
    }
   ],
   "source": [
    "!cat ../_publications/2009-10-01-paper-title-number-1.md"
   ]
  },
  {
   "cell_type": "code",
   "execution_count": null,
   "metadata": {
    "collapsed": true,
    "deletable": true,
    "editable": true,
    "jupyter": {
     "outputs_hidden": true
    }
   },
   "outputs": [],
   "source": []
  }
 ],
 "metadata": {
  "kernelspec": {
   "display_name": "Python 3 (ipykernel)",
   "language": "python",
   "name": "python3"
  },
  "language_info": {
   "codemirror_mode": {
    "name": "ipython",
    "version": 3
   },
   "file_extension": ".py",
   "mimetype": "text/x-python",
   "name": "python",
   "nbconvert_exporter": "python",
   "pygments_lexer": "ipython3",
   "version": "3.8.5"
  }
 },
 "nbformat": 4,
 "nbformat_minor": 4
}
